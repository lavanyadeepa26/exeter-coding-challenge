{
  "nbformat": 4,
  "nbformat_minor": 0,
  "metadata": {
    "colab": {
      "provenance": []
    },
    "kernelspec": {
      "name": "python3",
      "display_name": "Python 3"
    },
    "language_info": {
      "name": "python"
    }
  },
  "cells": [
    {
      "cell_type": "code",
      "execution_count": 4,
      "metadata": {
        "id": "3FmxuGiIx2Gd"
      },
      "outputs": [],
      "source": [
        "import csv\n",
        "import re\n",
        "import time\n",
        "import psutil"
      ]
    },
    {
      "cell_type": "code",
      "source": [
        "# starting time for performance file creation\n",
        "start = time.time()"
      ],
      "metadata": {
        "id": "gSFXtdERzlvG"
      },
      "execution_count": 5,
      "outputs": []
    },
    {
      "cell_type": "code",
      "source": [
        "# Reading the find_words.txt file\n",
        "words_txt = open(\"find_words.txt\", \"r\")\n",
        "find_words = words_txt.read()\n",
        "words_txt.close()\n",
        "find_words_inlist = find_words.split()"
      ],
      "metadata": {
        "id": "IcifLly2zwR7"
      },
      "execution_count": 6,
      "outputs": []
    },
    {
      "cell_type": "code",
      "source": [
        "# Reading the find_words.txt file and frequency of each word\n",
        "frequency = {}\n",
        "shakespeare_text = open(\"t8.shakespeare.txt\", 'r')\n",
        "text_string = shakespeare_text.read().lower()\n",
        "match_pattern = re.findall(r'\\b[a-z]{3,15}\\b', text_string)"
      ],
      "metadata": {
        "id": "3tMthS5zz1HA"
      },
      "execution_count": 7,
      "outputs": []
    },
    {
      "cell_type": "code",
      "source": [
        "# Reading the dictionary.csv file as a dictionary using csv module\n",
        "with open('french_dictionary.csv', mode='r') as data:\n",
        "    reader = csv.reader(data)\n",
        "    dict_from_csv = {rows[0]: rows[1] for rows in reader}"
      ],
      "metadata": {
        "id": "sMmyjiN0z8pr"
      },
      "execution_count": 8,
      "outputs": []
    },
    {
      "cell_type": "code",
      "source": [
        "# creating an english list for all english words in find_words file\n",
        "tot_eng = []\n",
        "for word in match_pattern:\n",
        "    if word in find_words_inlist:\n",
        "        tot_eng.append(word)\n",
        "eng = set(tot_eng)\n",
        "eng = list(eng)"
      ],
      "metadata": {
        "id": "sjKHq-2E0Bp5"
      },
      "execution_count": 10,
      "outputs": []
    },
    {
      "cell_type": "code",
      "source": [
        "#creating an french list for all french words in find_words file\n",
        "french = []\n",
        "for x in eng:\n",
        "    for key, value in dict_from_csv.items():\n",
        "        if x in key:\n",
        "            french.append(value)"
      ],
      "metadata": {
        "id": "e5cQw_3_0K8r"
      },
      "execution_count": 21,
      "outputs": []
    },
    {
      "cell_type": "code",
      "source": [
        "frequency_list = frequency.keys()\n",
        "f = []\n",
        "for z in frequency_list:\n",
        "    f.append(frequency[z])\n"
      ],
      "metadata": {
        "id": "m84kl5aT07CR"
      },
      "execution_count": 22,
      "outputs": []
    },
    {
      "cell_type": "code",
      "source": [
        "# zipping to list of lists for english,french words and their corresponding frequency(join tuples together)\n",
        "final = list(zip(eng, french, f))\n"
      ],
      "metadata": {
        "id": "EdS8Yyou1Agx"
      },
      "execution_count": 23,
      "outputs": []
    },
    {
      "cell_type": "code",
      "source": [
        "# Creating frequency.csv having 3 columns, first “English Word”, second “French Word”\n",
        "# and third “Frequency” and this should be the first line of the file\n",
        "header = ['English Word', 'French Word', 'Frequency']\n",
        "with open('frequency.csv', 'w', encoding='UTF8') as f:\n",
        "    writer = csv.writer(f)"
      ],
      "metadata": {
        "id": "fyBBNnib1E1j"
      },
      "execution_count": 24,
      "outputs": []
    },
    {
      "cell_type": "code",
      "source": [
        "# creating t8.shakespeare.translated.txt which is the processed output file that contains the words translated to French\n",
        "test_str = text_string\n",
        "print(\"The original string is : \" + str(test_str))"
      ],
      "metadata": {
        "colab": {
          "base_uri": "https://localhost:8080/"
        },
        "id": "AFyU8QaU1xS3",
        "outputId": "4d8678b6-a8b2-4c9b-a3db-1cde99fea5af"
      },
      "execution_count": 29,
      "outputs": [
        {
          "output_type": "stream",
          "name": "stderr",
          "text": [
            "IOPub data rate exceeded.\n",
            "The notebook server will temporarily stop sending output\n",
            "to the client in order to avoid crashing it.\n",
            "To change this limit, set the config variable\n",
            "`--NotebookApp.iopub_data_rate_limit`.\n",
            "\n",
            "Current values:\n",
            "NotebookApp.iopub_data_rate_limit=1000000.0 (bytes/sec)\n",
            "NotebookApp.rate_limit_window=3.0 (secs)\n",
            "\n"
          ]
        }
      ]
    },
    {
      "cell_type": "code",
      "source": [
        "#runs faster\n",
        "lookp_dict = dict_from_csv"
      ],
      "metadata": {
        "id": "EnRbxRDk2HL1"
      },
      "execution_count": 30,
      "outputs": []
    },
    {
      "cell_type": "code",
      "source": [
        "temp = test_str.split()\n",
        "res = []\n",
        "for wrd in temp:\n",
        "    res.append(lookp_dict.get(wrd, wrd))"
      ],
      "metadata": {
        "id": "HMNeAovA2h8j"
      },
      "execution_count": 31,
      "outputs": []
    },
    {
      "cell_type": "code",
      "source": [
        "res = ' '.join(res)\n",
        "\n",
        "f = open(\"t8.shakespeare.translated.txt\", \"w\")\n",
        "f.write(str(res))\n",
        "f.close()"
      ],
      "metadata": {
        "id": "78qO3DCK2pRo"
      },
      "execution_count": 32,
      "outputs": []
    },
    {
      "cell_type": "code",
      "source": [
        "# creating performance.txt having the time taken for the script to complete and the second line should have the\n",
        "# memory used by your script\n",
        "time_taken = time.time() - start\n",
        "memory_taken = psutil.cpu_percent(time_taken)\n",
        "f = open(\"performance.txt\", \"w\")\n",
        "f.write(f'Time to process: 0 minutes {time_taken} seconds\\nMemory used: {memory_taken} MB')\n",
        "f.close()"
      ],
      "metadata": {
        "id": "nXi1LfYo2uP3"
      },
      "execution_count": 33,
      "outputs": []
    },
    {
      "cell_type": "code",
      "source": [],
      "metadata": {
        "id": "FaP6ZmbB2yck"
      },
      "execution_count": null,
      "outputs": []
    }
  ]
}